{
  "nbformat": 4,
  "nbformat_minor": 0,
  "metadata": {
    "colab": {
      "provenance": [],
      "include_colab_link": true
    },
    "kernelspec": {
      "name": "python3",
      "display_name": "Python 3"
    },
    "language_info": {
      "name": "python"
    }
  },
  "cells": [
    {
      "cell_type": "markdown",
      "metadata": {
        "id": "view-in-github",
        "colab_type": "text"
      },
      "source": [
        "<a href=\"https://colab.research.google.com/github/Ethan-code-1/project_chd/blob/main/Project__2__Coronary_Heart_Disease_WriteUp.ipynb\" target=\"_parent\"><img src=\"https://colab.research.google.com/assets/colab-badge.svg\" alt=\"Open In Colab\"/></a>"
      ]
    },
    {
      "cell_type": "code",
      "execution_count": null,
      "metadata": {
        "id": "ONSl7X0JmMOT"
      },
      "outputs": [],
      "source": []
    },
    {
      "cell_type": "markdown",
      "source": [
        "**Summary**:\n",
        "\n",
        "Overall, this paper uses a trees model to fit a prediction on the likely 10-year coronary heart risk. Using around 10 questions we can split the data down into a prediction accuracy of XXXXXX as seen with the training set. This means that focusing on the following variables XXXXX, would help reduce the risk of coronary heart disease."
      ],
      "metadata": {
        "id": "Jo8M3nuLY7TL"
      }
    }
  ]
}